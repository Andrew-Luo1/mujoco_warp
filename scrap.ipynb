{
 "cells": [
  {
   "cell_type": "markdown",
   "metadata": {},
   "source": []
  },
  {
   "cell_type": "code",
   "execution_count": 1,
   "metadata": {},
   "outputs": [],
   "source": [
    "from etils import epath\n",
    "import mujoco\n",
    "import numpy as np\n",
    "import mujoco_warp as mjwarp\n",
    "from mujoco_warp import put_model, put_data"
   ]
  },
  {
   "cell_type": "code",
   "execution_count": 2,
   "metadata": {},
   "outputs": [
    {
     "name": "stdout",
     "output_type": "stream",
     "text": [
      "/home/andrew/Documents/Projects/2025-mujoco/mujoco_warp_prs/2025_03_24-csr/mujoco_warp/__init__.py\n"
     ]
    }
   ],
   "source": [
    "import mujoco_warp\n",
    "print(mujoco_warp.__file__)"
   ]
  },
  {
   "cell_type": "code",
   "execution_count": 3,
   "metadata": {},
   "outputs": [],
   "source": [
    "def fixture(fname: str, keyframe: int = -1, sparse: bool = True):\n",
    "  path = epath.resource_path(\"mujoco_warp\") / \"test_data\" / fname\n",
    "  mjm = mujoco.MjModel.from_xml_path(path.as_posix())\n",
    "  mjm.opt.jacobian = sparse\n",
    "  mjd = mujoco.MjData(mjm)\n",
    "  if keyframe > -1:\n",
    "    mujoco.mj_resetDataKeyframe(mjm, mjd, keyframe)\n",
    "  # give the system a little kick to ensure we have non-identity rotations\n",
    "  mjd.qvel = np.random.uniform(-0.01, 0.01, mjm.nv)\n",
    "  mujoco.mj_step(mjm, mjd, 3)  # let dynamics get state significantly non-zero\n",
    "  mujoco.mj_forward(mjm, mjd)\n",
    "  m = put_model(mjm)\n",
    "  d = put_data(mjm, mjd)\n",
    "  return mjm, mjd, m, d\n",
    "\n",
    "_TOLERANCE = 5e-5\n",
    "\n",
    "def _assert_eq(a, b, name):\n",
    "  tol = _TOLERANCE * 10  # avoid test noise\n",
    "  err_msg = f\"mismatch: {name}\"\n",
    "  np.testing.assert_allclose(a, b, err_msg=err_msg, atol=tol, rtol=tol)"
   ]
  },
  {
   "cell_type": "code",
   "execution_count": 4,
   "metadata": {},
   "outputs": [
    {
     "name": "stdout",
     "output_type": "stream",
     "text": [
      "Warp 1.7.0.dev20250324 initialized:\n",
      "   Git commit: f3814e7e5459e5fd13032cf0fddb3daddd510f30\n",
      "   CUDA Toolkit 12.8, Driver 12.8\n",
      "   Devices:\n",
      "     \"cpu\"      : \"x86_64\"\n",
      "     \"cuda:0\"   : \"NVIDIA GeForce RTX 4060 Ti\" (8 GiB, sm_89, mempool enabled)\n",
      "   Kernel cache:\n",
      "     /home/andrew/.cache/warp/1.7.0.dev20250324\n"
     ]
    }
   ],
   "source": [
    "mjm, mjd, m, d = fixture(\"pendula.xml\", sparse=True)"
   ]
  },
  {
   "cell_type": "code",
   "execution_count": 16,
   "metadata": {},
   "outputs": [
    {
     "name": "stdout",
     "output_type": "stream",
     "text": [
      "[96  0]\n",
      "[96  1]\n",
      "[96  2]\n",
      "[96  3]\n",
      "[96  4]\n",
      "[96  5]\n",
      "[96  6]\n",
      "[95  0]\n",
      "[95  1]\n",
      "[95  2]\n",
      "[95  3]\n",
      "[95  4]\n",
      "[95  5]\n",
      "[94  0]\n",
      "[94  1]\n",
      "[94  2]\n",
      "[94  3]\n",
      "[94  4]\n",
      "[93  0]\n",
      "[93  1]\n",
      "[93  2]\n",
      "[93  3]\n",
      "[92  0]\n",
      "[92  1]\n",
      "[92  2]\n",
      "[91  0]\n",
      "[91  1]\n",
      "[90  0]\n",
      "[88  0]\n",
      "[88  1]\n",
      "[88  2]\n",
      "[88  3]\n",
      "[88  4]\n",
      "[88  5]\n",
      "[87  0]\n",
      "[87  1]\n",
      "[87  2]\n",
      "[87  3]\n",
      "[87  4]\n",
      "[86  0]\n",
      "[86  1]\n",
      "[86  2]\n",
      "[86  3]\n",
      "[85  0]\n",
      "[85  1]\n",
      "[85  2]\n",
      "[84  0]\n",
      "[84  1]\n",
      "[83  0]\n",
      "[81  0]\n",
      "[81  1]\n",
      "[81  2]\n",
      "[81  3]\n",
      "[81  4]\n",
      "[80  0]\n",
      "[80  1]\n",
      "[80  2]\n",
      "[80  3]\n",
      "[79  0]\n",
      "[79  1]\n",
      "[79  2]\n",
      "[78  0]\n",
      "[78  1]\n",
      "[77  0]\n",
      "[75  0]\n",
      "[75  1]\n",
      "[75  2]\n",
      "[75  3]\n",
      "[74  0]\n",
      "[74  1]\n",
      "[74  2]\n",
      "[73  0]\n",
      "[73  1]\n",
      "[72  0]\n",
      "[70  0]\n",
      "[70  1]\n",
      "[70  2]\n",
      "[69  0]\n",
      "[69  1]\n",
      "[68  0]\n",
      "[66  0]\n",
      "[66  1]\n",
      "[65  0]\n",
      "[63  0]\n",
      "[60  0]\n",
      "[60  1]\n",
      "[60  2]\n",
      "[59  0]\n",
      "[59  1]\n",
      "[58  0]\n",
      "[56  0]\n",
      "[56  1]\n",
      "[56  2]\n",
      "[55  0]\n",
      "[55  1]\n",
      "[54  0]\n",
      "[52  0]\n",
      "[52  1]\n",
      "[51  0]\n",
      "[49  0]\n",
      "[46  0]\n",
      "[46  1]\n",
      "[45  0]\n",
      "[43  0]\n",
      "[40  0]\n",
      "[40  1]\n",
      "[40  2]\n",
      "[39  0]\n",
      "[39  1]\n",
      "[38  0]\n",
      "[36  0]\n",
      "[36  1]\n",
      "[35  0]\n",
      "[33  0]\n",
      "[30  0]\n",
      "[25  0]\n",
      "[25  1]\n",
      "[24  0]\n",
      "[22  0]\n",
      "[19  0]\n",
      "[19  1]\n",
      "[19  2]\n",
      "[19  3]\n",
      "[19  4]\n",
      "[18  0]\n",
      "[18  1]\n",
      "[18  2]\n",
      "[18  3]\n",
      "[17  0]\n",
      "[17  1]\n",
      "[17  2]\n",
      "[16  0]\n",
      "[16  1]\n",
      "[15  0]\n",
      "[13  0]\n",
      "[13  1]\n",
      "[13  2]\n",
      "[13  3]\n",
      "[12  0]\n",
      "[12  1]\n",
      "[12  2]\n",
      "[11  0]\n",
      "[11  1]\n",
      "[10  0]\n",
      "[8 0]\n",
      "[8 1]\n",
      "[8 2]\n",
      "[7 0]\n",
      "[7 1]\n",
      "[6 0]\n",
      "[4 0]\n",
      "[4 1]\n",
      "[3 0]\n",
      "[1 0]\n"
     ]
    }
   ],
   "source": [
    "loop_helper = m.M_loop_helper.numpy()\n",
    "loop_helper_starts = m.M_loop_helper_starts.numpy()\n",
    "for k in range(m.nv):\n",
    "    beg, end = loop_helper_starts[k], loop_helper_starts[k + 1]\n",
    "    for ind in range(end - beg):\n",
    "        print(loop_helper[beg + ind])"
   ]
  },
  {
   "cell_type": "code",
   "execution_count": 12,
   "metadata": {},
   "outputs": [
    {
     "data": {
      "text/plain": [
       "array([  0,  28,  49,  64,  74,  80,  83,  84,  84,  90,  96,  99, 100,\n",
       "       100, 103, 104, 104, 110, 113, 114, 114, 115, 115, 115, 115, 118,\n",
       "       119, 119, 134, 144, 150, 153, 154, 154], dtype=int32)"
      ]
     },
     "execution_count": 12,
     "metadata": {},
     "output_type": "execute_result"
    }
   ],
   "source": [
    "loop_helper_starts"
   ]
  },
  {
   "cell_type": "code",
   "execution_count": 15,
   "metadata": {},
   "outputs": [
    {
     "data": {
      "text/plain": [
       "array([[96,  0],\n",
       "       [96,  1],\n",
       "       [96,  2],\n",
       "       [96,  3],\n",
       "       [96,  4],\n",
       "       [96,  5],\n",
       "       [96,  6],\n",
       "       [95,  0],\n",
       "       [95,  1],\n",
       "       [95,  2],\n",
       "       [95,  3],\n",
       "       [95,  4],\n",
       "       [95,  5],\n",
       "       [94,  0],\n",
       "       [94,  1],\n",
       "       [94,  2],\n",
       "       [94,  3],\n",
       "       [94,  4],\n",
       "       [93,  0],\n",
       "       [93,  1],\n",
       "       [93,  2],\n",
       "       [93,  3],\n",
       "       [92,  0],\n",
       "       [92,  1],\n",
       "       [92,  2],\n",
       "       [91,  0],\n",
       "       [91,  1],\n",
       "       [90,  0],\n",
       "       [88,  0],\n",
       "       [88,  1],\n",
       "       [88,  2],\n",
       "       [88,  3],\n",
       "       [88,  4],\n",
       "       [88,  5],\n",
       "       [87,  0],\n",
       "       [87,  1],\n",
       "       [87,  2],\n",
       "       [87,  3],\n",
       "       [87,  4],\n",
       "       [86,  0],\n",
       "       [86,  1],\n",
       "       [86,  2],\n",
       "       [86,  3],\n",
       "       [85,  0],\n",
       "       [85,  1],\n",
       "       [85,  2],\n",
       "       [84,  0],\n",
       "       [84,  1],\n",
       "       [83,  0],\n",
       "       [81,  0],\n",
       "       [81,  1],\n",
       "       [81,  2],\n",
       "       [81,  3],\n",
       "       [81,  4],\n",
       "       [80,  0],\n",
       "       [80,  1],\n",
       "       [80,  2],\n",
       "       [80,  3],\n",
       "       [79,  0],\n",
       "       [79,  1],\n",
       "       [79,  2],\n",
       "       [78,  0],\n",
       "       [78,  1],\n",
       "       [77,  0],\n",
       "       [75,  0],\n",
       "       [75,  1],\n",
       "       [75,  2],\n",
       "       [75,  3],\n",
       "       [74,  0],\n",
       "       [74,  1],\n",
       "       [74,  2],\n",
       "       [73,  0],\n",
       "       [73,  1],\n",
       "       [72,  0],\n",
       "       [70,  0],\n",
       "       [70,  1],\n",
       "       [70,  2],\n",
       "       [69,  0],\n",
       "       [69,  1],\n",
       "       [68,  0],\n",
       "       [66,  0],\n",
       "       [66,  1],\n",
       "       [65,  0],\n",
       "       [63,  0],\n",
       "       [60,  0],\n",
       "       [60,  1],\n",
       "       [60,  2],\n",
       "       [59,  0],\n",
       "       [59,  1],\n",
       "       [58,  0],\n",
       "       [56,  0],\n",
       "       [56,  1],\n",
       "       [56,  2],\n",
       "       [55,  0],\n",
       "       [55,  1],\n",
       "       [54,  0],\n",
       "       [52,  0],\n",
       "       [52,  1],\n",
       "       [51,  0],\n",
       "       [49,  0],\n",
       "       [46,  0],\n",
       "       [46,  1],\n",
       "       [45,  0],\n",
       "       [43,  0],\n",
       "       [40,  0],\n",
       "       [40,  1],\n",
       "       [40,  2],\n",
       "       [39,  0],\n",
       "       [39,  1],\n",
       "       [38,  0],\n",
       "       [36,  0],\n",
       "       [36,  1],\n",
       "       [35,  0],\n",
       "       [33,  0],\n",
       "       [30,  0],\n",
       "       [25,  0],\n",
       "       [25,  1],\n",
       "       [24,  0],\n",
       "       [22,  0],\n",
       "       [19,  0],\n",
       "       [19,  1],\n",
       "       [19,  2],\n",
       "       [19,  3],\n",
       "       [19,  4],\n",
       "       [18,  0],\n",
       "       [18,  1],\n",
       "       [18,  2],\n",
       "       [18,  3],\n",
       "       [17,  0],\n",
       "       [17,  1],\n",
       "       [17,  2],\n",
       "       [16,  0],\n",
       "       [16,  1],\n",
       "       [15,  0],\n",
       "       [13,  0],\n",
       "       [13,  1],\n",
       "       [13,  2],\n",
       "       [13,  3],\n",
       "       [12,  0],\n",
       "       [12,  1],\n",
       "       [12,  2],\n",
       "       [11,  0],\n",
       "       [11,  1],\n",
       "       [10,  0],\n",
       "       [ 8,  0],\n",
       "       [ 8,  1],\n",
       "       [ 8,  2],\n",
       "       [ 7,  0],\n",
       "       [ 7,  1],\n",
       "       [ 6,  0],\n",
       "       [ 4,  0],\n",
       "       [ 4,  1],\n",
       "       [ 3,  0],\n",
       "       [ 1,  0]], dtype=int32)"
      ]
     },
     "execution_count": 15,
     "metadata": {},
     "output_type": "execute_result"
    }
   ],
   "source": [
    "loop_helper"
   ]
  },
  {
   "cell_type": "code",
   "execution_count": 7,
   "metadata": {},
   "outputs": [
    {
     "data": {
      "text/plain": [
       "array([ 0,  2,  5,  9, 14, 20, 21, 23, 26, 27, 28, 29, 31, 32, 34, 37, 41,\n",
       "       42, 44, 47, 48, 50, 53, 57, 61, 62, 64, 67, 71, 76, 82, 89, 97],\n",
       "      dtype=int32)"
      ]
     },
     "execution_count": 7,
     "metadata": {},
     "output_type": "execute_result"
    }
   ],
   "source": [
    "m.M_diags.numpy()"
   ]
  },
  {
   "cell_type": "code",
   "execution_count": 8,
   "metadata": {},
   "outputs": [
    {
     "data": {
      "text/plain": [
       "98"
      ]
     },
     "execution_count": 8,
     "metadata": {},
     "output_type": "execute_result"
    }
   ],
   "source": [
    "m.nM"
   ]
  },
  {
   "cell_type": "code",
   "execution_count": 12,
   "metadata": {},
   "outputs": [],
   "source": [
    "diag_inds = np.zeros(m.nM, dtype=np.int32)\n",
    "\n",
    "i = 0\n",
    "for k in range(m.nv):\n",
    "    rowadr_k = mjd.M_rowadr[k]\n",
    "    diag_k = mjd.M_rowadr[k] + mjd.M_rownnz[k]\n",
    "    for _ in range(rowadr_k, diag_k):\n",
    "        diag_inds[i] = diag_k\n",
    "        i += 1\n",
    "\n",
    "# import warp as wp\n",
    "# wp_diag_inds = wp.array(diag_inds, dtype=wp.int32, ndim=1)"
   ]
  },
  {
   "cell_type": "code",
   "execution_count": 13,
   "metadata": {},
   "outputs": [
    {
     "data": {
      "text/plain": [
       "array([ 1,  3,  3,  6,  6,  6, 10, 10, 10, 10, 15, 15, 15, 15, 15, 21, 21,\n",
       "       21, 21, 21, 21, 22, 24, 24, 27, 27, 27, 28, 29, 30, 32, 32, 33, 35,\n",
       "       35, 38, 38, 38, 42, 42, 42, 42, 43, 45, 45, 48, 48, 48, 49, 51, 51,\n",
       "       54, 54, 54, 58, 58, 58, 58, 62, 62, 62, 62, 63, 65, 65, 68, 68, 68,\n",
       "       72, 72, 72, 72, 77, 77, 77, 77, 77, 83, 83, 83, 83, 83, 83, 90, 90,\n",
       "       90, 90, 90, 90, 90, 98, 98, 98, 98, 98, 98, 98, 98], dtype=int32)"
      ]
     },
     "execution_count": 13,
     "metadata": {},
     "output_type": "execute_result"
    }
   ],
   "source": [
    "diag_inds"
   ]
  }
 ],
 "metadata": {
  "kernelspec": {
   "display_name": "2025_03_24-csr",
   "language": "python",
   "name": "python3"
  },
  "language_info": {
   "codemirror_mode": {
    "name": "ipython",
    "version": 3
   },
   "file_extension": ".py",
   "mimetype": "text/x-python",
   "name": "python",
   "nbconvert_exporter": "python",
   "pygments_lexer": "ipython3",
   "version": "3.10.16"
  }
 },
 "nbformat": 4,
 "nbformat_minor": 2
}
